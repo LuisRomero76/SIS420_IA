{
 "cells": [
  {
   "cell_type": "code",
   "execution_count": null,
   "metadata": {},
   "outputs": [],
   "source": [
    "import numpy as np\n",
    "import pandas as pd\n",
    "import matplotlib.pyplot as plt\n",
    "from tabulate import tabulate\n",
    "\n",
    "np.random.seed(40)\n",
    "\n",
    "estaturas = np.random.uniform(1.4, 2.0, 100)\n",
    "\n",
    "pesos = []\n",
    "\n",
    "for estatura in estaturas:\n",
    "    \n",
    "    peso_min = 18.5 * (estatura ** 2)  # Peso mínimo según IMC de 18.5\n",
    "    peso_max = 24.9 * (estatura ** 2)  # Peso máximo según IMC de 24.9\n",
    "    \n",
    "    # Generar un peso aleatorio entre el peso mínimo y máximo calculado\n",
    "    peso = np.random.uniform(peso_min, peso_max)\n",
    "    \n",
    "    pesos.append(peso)  # Añadir el peso a la lista de pesos\n"
   ]
  },
  {
   "cell_type": "markdown",
   "metadata": {},
   "source": [
    "Agregamos el DataFrame y creamos la tabla de los datos generados"
   ]
  },
  {
   "cell_type": "code",
   "execution_count": null,
   "metadata": {},
   "outputs": [],
   "source": [
    "data = pd.DataFrame({\n",
    "    'Estatura (m)': estaturas,\n",
    "    'Peso (kg)': pesos\n",
    "})\n",
    "\n",
    "tabla = tabulate(data.head(100), headers='keys', tablefmt=\"grid\")\n",
    "print(tabla)"
   ]
  },
  {
   "cell_type": "markdown",
   "metadata": {},
   "source": [
    "Calcular la pendiente (m) y la intersección (b) de la recta \n",
    "y = mx + b"
   ]
  },
  {
   "cell_type": "code",
   "execution_count": null,
   "metadata": {},
   "outputs": [],
   "source": [
    "x = data['Estatura (m)']\n",
    "y = data['Peso (kg)']\n",
    "m = np.sum((x - np.mean(x)) * (y - np.mean(y))) / np.sum((x - np.mean(x)) ** 2)\n",
    "b = np.mean(y) - m * np.mean(x)\n",
    "\n",
    "interseccion = m * x + b"
   ]
  },
  {
   "cell_type": "markdown",
   "metadata": {},
   "source": [
    "Utilizando el “import matplotlib.pyplot as plt” creamos el grafico para visualizar los datos generados"
   ]
  },
  {
   "cell_type": "code",
   "execution_count": null,
   "metadata": {},
   "outputs": [],
   "source": [
    "plt.scatter(data['Estatura (m)'], data['Peso (kg)'], color='darkblue', label='Datos Encontrados')\n",
    "plt.plot(x, interseccion, color='red', label='Línea ajustada')\n",
    "plt.title('Estatura vs Peso con Línea Ajustada')\n",
    "plt.xlabel('Estatura (m)')\n",
    "plt.ylabel('Peso (kg)')\n",
    "plt.legend()\n",
    "plt.show()"
   ]
  }
 ],
 "metadata": {
  "kernelspec": {
   "display_name": "Python 3",
   "language": "python",
   "name": "python3"
  },
  "language_info": {
   "codemirror_mode": {
    "name": "ipython",
    "version": 3
   },
   "file_extension": ".py",
   "mimetype": "text/x-python",
   "name": "python",
   "nbconvert_exporter": "python",
   "pygments_lexer": "ipython3",
   "version": "3.12.4"
  }
 },
 "nbformat": 4,
 "nbformat_minor": 2
}
