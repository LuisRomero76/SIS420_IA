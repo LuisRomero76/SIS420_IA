{
 "cells": [
  {
   "cell_type": "code",
   "execution_count": 3,
   "metadata": {},
   "outputs": [
    {
     "ename": "ModuleNotFoundError",
     "evalue": "No module named 'numpy'",
     "output_type": "error",
     "traceback": [
      "\u001b[1;31m---------------------------------------------------------------------------\u001b[0m",
      "\u001b[1;31mModuleNotFoundError\u001b[0m                       Traceback (most recent call last)",
      "Cell \u001b[1;32mIn[3], line 1\u001b[0m\n\u001b[1;32m----> 1\u001b[0m \u001b[38;5;28;01mimport\u001b[39;00m \u001b[38;5;21;01mnumpy\u001b[39;00m \u001b[38;5;28;01mas\u001b[39;00m \u001b[38;5;21;01mnp\u001b[39;00m\n\u001b[0;32m      2\u001b[0m \u001b[38;5;28;01mimport\u001b[39;00m \u001b[38;5;21;01mmatplotlib\u001b[39;00m\u001b[38;5;21;01m.\u001b[39;00m\u001b[38;5;21;01mpyplot\u001b[39;00m \u001b[38;5;28;01mas\u001b[39;00m \u001b[38;5;21;01mplt\u001b[39;00m\n\u001b[0;32m      3\u001b[0m \u001b[38;5;28;01mfrom\u001b[39;00m \u001b[38;5;21;01mscipy\u001b[39;00m\u001b[38;5;21;01m.\u001b[39;00m\u001b[38;5;21;01moptimize\u001b[39;00m \u001b[38;5;28;01mimport\u001b[39;00m curve_fit\n",
      "\u001b[1;31mModuleNotFoundError\u001b[0m: No module named 'numpy'"
     ]
    }
   ],
   "source": [
    "import numpy as np\n",
    "import matplotlib.pyplot as plt\n",
    "from scipy.optimize import curve_fit\n",
    "\n",
    "# Función para generar estatura y peso dentro de rangos realistas\n",
    "def generar_datos(n=100):\n",
    "    estaturas = np.random.uniform(1.4, 2.0, n)  # Estaturas en metros entre 1.4 y 2.0\n",
    "    pesos = []\n",
    "    for estatura in estaturas:\n",
    "        peso_min = max(40, estatura * 18.5)  # Mínimo peso según estatura\n",
    "        peso_max = min(120, estatura * 30)   # Máximo peso según estatura\n",
    "        peso = np.random.uniform(peso_min, peso_max)\n",
    "        pesos.append(peso)\n",
    "    return np.array(estaturas), np.array(pesos)\n",
    "\n",
    "# Generar datos\n",
    "estaturas, pesos = generar_datos()\n"
   ]
  },
  {
   "cell_type": "markdown",
   "metadata": {},
   "source": [
    "## 2. Ajuste de Curva\n",
    "\n",
    "Ajustamos una curva que represente la distribución de los puntos generados.\n"
   ]
  },
  {
   "cell_type": "code",
   "execution_count": null,
   "metadata": {},
   "outputs": [],
   "source": [
    "# Definir una función para ajustar los datos\n",
    "def modelo(x, a, b):\n",
    "    return a * x + b\n",
    "\n",
    "# Ajuste de curva\n",
    "parametros, _ = curve_fit(modelo, estaturas, pesos)\n",
    "\n",
    "# Predicción con el modelo ajustado\n",
    "pesos_ajustados = modelo(estaturas, *parametros)"
   ]
  },
  {
   "cell_type": "markdown",
   "metadata": {},
   "source": [
    "## 3. Visualización de Resultados\n",
    "\n",
    "Finalmente, visualizamos los resultados, comparando los datos generados con la curva ajustada.\n"
   ]
  },
  {
   "cell_type": "code",
   "execution_count": null,
   "metadata": {},
   "outputs": [],
   "source": [
    "# Graficar los resultados\n",
    "plt.scatter(estaturas, pesos, label=\"Datos generados\", color=\"blue\")\n",
    "plt.plot(estaturas, pesos_ajustados, label=f'Ajuste lineal: y = {parametros[0]:.2f}x + {parametros[1]:.2f}', color=\"red\")\n",
    "plt.xlabel(\"Estatura (m)\")\n",
    "plt.ylabel(\"Peso (kg)\")\n",
    "plt.title(\"Ajuste de curva para datos de peso y estatura\")\n",
    "plt.legend()\n",
    "plt.show()"
   ]
  }
 ],
 "metadata": {
  "kernelspec": {
   "display_name": "Python 3",
   "language": "python",
   "name": "python3"
  },
  "language_info": {
   "codemirror_mode": {
    "name": "ipython",
    "version": 3
   },
   "file_extension": ".py",
   "mimetype": "text/x-python",
   "name": "python",
   "nbconvert_exporter": "python",
   "pygments_lexer": "ipython3",
   "version": "3.12.4"
  }
 },
 "nbformat": 4,
 "nbformat_minor": 2
}
